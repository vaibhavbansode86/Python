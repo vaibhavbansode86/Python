{
  "nbformat": 4,
  "nbformat_minor": 0,
  "metadata": {
    "colab": {
      "name": "Numpy.ipynb",
      "provenance": [],
      "authorship_tag": "ABX9TyPWJQZlYQHgHkWelgYeLbpm",
      "include_colab_link": true
    },
    "kernelspec": {
      "name": "python3",
      "display_name": "Python 3"
    }
  },
  "cells": [
    {
      "cell_type": "markdown",
      "metadata": {
        "id": "view-in-github",
        "colab_type": "text"
      },
      "source": [
        "<a href=\"https://colab.research.google.com/github/vaibhavbansode86/smart_work/blob/master/Numpy.ipynb\" target=\"_parent\"><img src=\"https://colab.research.google.com/assets/colab-badge.svg\" alt=\"Open In Colab\"/></a>"
      ]
    },
    {
      "cell_type": "code",
      "metadata": {
        "colab": {
          "base_uri": "https://localhost:8080/"
        },
        "id": "2ccjVo0yps6a",
        "outputId": "e8cca4ab-e9ac-4453-b9e6-8ce26f18f7de"
      },
      "source": [
        "print(\"We are learning Numpy\")"
      ],
      "execution_count": 1,
      "outputs": [
        {
          "output_type": "stream",
          "text": [
            "We are learning Numpy\n"
          ],
          "name": "stdout"
        }
      ]
    },
    {
      "cell_type": "code",
      "metadata": {
        "id": "jBTVJ2Xbr2bZ"
      },
      "source": [
        ""
      ],
      "execution_count": null,
      "outputs": []
    },
    {
      "cell_type": "code",
      "metadata": {
        "id": "UkW819xpp-r3"
      },
      "source": [
        "import numpy as np"
      ],
      "execution_count": 2,
      "outputs": []
    },
    {
      "cell_type": "code",
      "metadata": {
        "id": "cLF1MKr6qx1o"
      },
      "source": [
        ""
      ],
      "execution_count": null,
      "outputs": []
    },
    {
      "cell_type": "code",
      "metadata": {
        "colab": {
          "base_uri": "https://localhost:8080/"
        },
        "id": "ea1rzLVaqti-",
        "outputId": "4f97a53b-29f5-4f10-d9ef-557f19110d60"
      },
      "source": [
        "a = [[2,4,5],[5,4,5],[6,7,8],[9,8,7],[23,3,2]]   ## nested list\r\n",
        "arr1 = np.array(a)\r\n",
        "arr1"
      ],
      "execution_count": 3,
      "outputs": [
        {
          "output_type": "execute_result",
          "data": {
            "text/plain": [
              "array([[ 2,  4,  5],\n",
              "       [ 5,  4,  5],\n",
              "       [ 6,  7,  8],\n",
              "       [ 9,  8,  7],\n",
              "       [23,  3,  2]])"
            ]
          },
          "metadata": {
            "tags": []
          },
          "execution_count": 3
        }
      ]
    },
    {
      "cell_type": "code",
      "metadata": {
        "colab": {
          "base_uri": "https://localhost:8080/"
        },
        "id": "CrfhOwpBrWq8",
        "outputId": "fbdbf96e-f4d4-4bf2-aca9-2e490867193e"
      },
      "source": [
        "b = [[2,4,5],[5,4,5],[6,7,8],[9,8,7],[23,3,2],[230,30,20],[243,34,24],[243,43,42]]   ## nested list\r\n",
        "arr2 = np.array(b)\r\n",
        "arr2"
      ],
      "execution_count": 5,
      "outputs": [
        {
          "output_type": "execute_result",
          "data": {
            "text/plain": [
              "array([[  2,   4,   5],\n",
              "       [  5,   4,   5],\n",
              "       [  6,   7,   8],\n",
              "       [  9,   8,   7],\n",
              "       [ 23,   3,   2],\n",
              "       [230,  30,  20],\n",
              "       [243,  34,  24],\n",
              "       [243,  43,  42]])"
            ]
          },
          "metadata": {
            "tags": []
          },
          "execution_count": 5
        }
      ]
    },
    {
      "cell_type": "code",
      "metadata": {
        "id": "weBXdGN9sKnn"
      },
      "source": [
        ""
      ],
      "execution_count": null,
      "outputs": []
    },
    {
      "cell_type": "code",
      "metadata": {
        "colab": {
          "base_uri": "https://localhost:8080/"
        },
        "id": "iMlF8JsWsx0H",
        "outputId": "cc730ea2-ab5b-4a75-af94-337fcbc88979"
      },
      "source": [
        "b = [[[2,4,5],[5,4,5],[6,7,8],[9,8,7],[23,3,2]]]   ## nested list\r\n",
        "arr2 = np.array(b)\r\n",
        "arr2"
      ],
      "execution_count": 38,
      "outputs": [
        {
          "output_type": "execute_result",
          "data": {
            "text/plain": [
              "array([[[ 2,  4,  5],\n",
              "        [ 5,  4,  5],\n",
              "        [ 6,  7,  8],\n",
              "        [ 9,  8,  7],\n",
              "        [23,  3,  2]]])"
            ]
          },
          "metadata": {
            "tags": []
          },
          "execution_count": 38
        }
      ]
    },
    {
      "cell_type": "code",
      "metadata": {
        "id": "dCGDekYuswXm",
        "colab": {
          "base_uri": "https://localhost:8080/"
        },
        "outputId": "2427a956-5040-487f-8886-9bd2d4113334"
      },
      "source": [
        "c = [[[2,4,5],[5,4,5],[6,7,8],[9,8,7],[23,3,2]],\r\n",
        "     [[2,4,5],[5,4,5],[6,7,8],[9,8,7],[23,3,2]]]   ## nested list\r\n",
        "arr3 = np.array(c)\r\n",
        "arr3"
      ],
      "execution_count": 10,
      "outputs": [
        {
          "output_type": "execute_result",
          "data": {
            "text/plain": [
              "array([[[ 2,  4,  5],\n",
              "        [ 5,  4,  5],\n",
              "        [ 6,  7,  8],\n",
              "        [ 9,  8,  7],\n",
              "        [23,  3,  2]],\n",
              "\n",
              "       [[ 2,  4,  5],\n",
              "        [ 5,  4,  5],\n",
              "        [ 6,  7,  8],\n",
              "        [ 9,  8,  7],\n",
              "        [23,  3,  2]]])"
            ]
          },
          "metadata": {
            "tags": []
          },
          "execution_count": 10
        }
      ]
    },
    {
      "cell_type": "code",
      "metadata": {
        "colab": {
          "base_uri": "https://localhost:8080/"
        },
        "id": "GDkTXlyTrjp7",
        "outputId": "213ceecd-6869-47bb-c30c-04cdd731c929"
      },
      "source": [
        "len(arr1)"
      ],
      "execution_count": null,
      "outputs": [
        {
          "output_type": "execute_result",
          "data": {
            "text/plain": [
              "5"
            ]
          },
          "metadata": {
            "tags": []
          },
          "execution_count": 7
        }
      ]
    },
    {
      "cell_type": "code",
      "metadata": {
        "id": "7qjRzYI6sHZV",
        "colab": {
          "base_uri": "https://localhost:8080/"
        },
        "outputId": "dfbea57e-a640-483a-8be6-ba3242bf6c8d"
      },
      "source": [
        "len(arr2)"
      ],
      "execution_count": 6,
      "outputs": [
        {
          "output_type": "execute_result",
          "data": {
            "text/plain": [
              "8"
            ]
          },
          "metadata": {
            "tags": []
          },
          "execution_count": 6
        }
      ]
    },
    {
      "cell_type": "code",
      "metadata": {
        "id": "GcqSJlo8sK-g",
        "colab": {
          "base_uri": "https://localhost:8080/"
        },
        "outputId": "8b54ad32-bae5-40b6-fab4-0224bc1c593d"
      },
      "source": [
        "len(arr3)"
      ],
      "execution_count": 39,
      "outputs": [
        {
          "output_type": "execute_result",
          "data": {
            "text/plain": [
              "2"
            ]
          },
          "metadata": {
            "tags": []
          },
          "execution_count": 39
        }
      ]
    },
    {
      "cell_type": "code",
      "metadata": {
        "colab": {
          "base_uri": "https://localhost:8080/"
        },
        "id": "9VCw9vVItDio",
        "outputId": "f478c3f1-fce0-4bd3-969c-d6a9e24f4fd7"
      },
      "source": [
        "arr1.ndim"
      ],
      "execution_count": 8,
      "outputs": [
        {
          "output_type": "execute_result",
          "data": {
            "text/plain": [
              "2"
            ]
          },
          "metadata": {
            "tags": []
          },
          "execution_count": 8
        }
      ]
    },
    {
      "cell_type": "code",
      "metadata": {
        "id": "IFEkS88FtAgN",
        "colab": {
          "base_uri": "https://localhost:8080/"
        },
        "outputId": "f085d58a-079a-4305-c46f-da4bddb3423d"
      },
      "source": [
        "arr2.ndim"
      ],
      "execution_count": 40,
      "outputs": [
        {
          "output_type": "execute_result",
          "data": {
            "text/plain": [
              "3"
            ]
          },
          "metadata": {
            "tags": []
          },
          "execution_count": 40
        }
      ]
    },
    {
      "cell_type": "code",
      "metadata": {
        "id": "YoHqAGwStB5k",
        "colab": {
          "base_uri": "https://localhost:8080/"
        },
        "outputId": "7183d886-14f2-4918-e0eb-54cfbcf7e470"
      },
      "source": [
        "arr3.ndim"
      ],
      "execution_count": 41,
      "outputs": [
        {
          "output_type": "execute_result",
          "data": {
            "text/plain": [
              "3"
            ]
          },
          "metadata": {
            "tags": []
          },
          "execution_count": 41
        }
      ]
    },
    {
      "cell_type": "code",
      "metadata": {
        "id": "ncuiHYE0tEVH",
        "colab": {
          "base_uri": "https://localhost:8080/"
        },
        "outputId": "ea5f5b7b-4e3b-470d-a358-9332a702899f"
      },
      "source": [
        "arr1.shape"
      ],
      "execution_count": 43,
      "outputs": [
        {
          "output_type": "execute_result",
          "data": {
            "text/plain": [
              "(5, 3)"
            ]
          },
          "metadata": {
            "tags": []
          },
          "execution_count": 43
        }
      ]
    },
    {
      "cell_type": "code",
      "metadata": {
        "id": "eSgQFp9qtTn0",
        "colab": {
          "base_uri": "https://localhost:8080/"
        },
        "outputId": "87a55ae6-4e30-4980-8155-56194959bed9"
      },
      "source": [
        "arr2"
      ],
      "execution_count": 42,
      "outputs": [
        {
          "output_type": "execute_result",
          "data": {
            "text/plain": [
              "array([[[ 2,  4,  5],\n",
              "        [ 5,  4,  5],\n",
              "        [ 6,  7,  8],\n",
              "        [ 9,  8,  7],\n",
              "        [23,  3,  2]]])"
            ]
          },
          "metadata": {
            "tags": []
          },
          "execution_count": 42
        }
      ]
    },
    {
      "cell_type": "code",
      "metadata": {
        "colab": {
          "base_uri": "https://localhost:8080/"
        },
        "id": "noYgzLm1tLoo",
        "outputId": "4be5bda5-9b39-41da-8461-5563b1c21c19"
      },
      "source": [
        "arr2.shape"
      ],
      "execution_count": 9,
      "outputs": [
        {
          "output_type": "execute_result",
          "data": {
            "text/plain": [
              "(8, 3)"
            ]
          },
          "metadata": {
            "tags": []
          },
          "execution_count": 9
        }
      ]
    },
    {
      "cell_type": "code",
      "metadata": {
        "id": "-NDuWwNCtPI0",
        "colab": {
          "base_uri": "https://localhost:8080/"
        },
        "outputId": "81d0df33-783d-4eb1-b48e-9c207a73f399"
      },
      "source": [
        "arr3"
      ],
      "execution_count": 44,
      "outputs": [
        {
          "output_type": "execute_result",
          "data": {
            "text/plain": [
              "array([[[ 2,  4,  5],\n",
              "        [ 5,  4,  5],\n",
              "        [ 6,  7,  8],\n",
              "        [ 9,  8,  7],\n",
              "        [23,  3,  2]],\n",
              "\n",
              "       [[ 2,  4,  5],\n",
              "        [ 5,  4,  5],\n",
              "        [ 6,  7,  8],\n",
              "        [ 9,  8,  7],\n",
              "        [23,  3,  2]]])"
            ]
          },
          "metadata": {
            "tags": []
          },
          "execution_count": 44
        }
      ]
    },
    {
      "cell_type": "code",
      "metadata": {
        "colab": {
          "base_uri": "https://localhost:8080/"
        },
        "id": "2Ykf2fbYthcI",
        "outputId": "95358f40-dacc-42d4-f18b-2be1fddfa2e4"
      },
      "source": [
        "arr3.shape"
      ],
      "execution_count": 11,
      "outputs": [
        {
          "output_type": "execute_result",
          "data": {
            "text/plain": [
              "(2, 5, 3)"
            ]
          },
          "metadata": {
            "tags": []
          },
          "execution_count": 11
        }
      ]
    },
    {
      "cell_type": "code",
      "metadata": {
        "id": "ToWapytptZf7"
      },
      "source": [
        "### Array Slicing"
      ],
      "execution_count": 12,
      "outputs": []
    },
    {
      "cell_type": "code",
      "metadata": {
        "colab": {
          "base_uri": "https://localhost:8080/"
        },
        "id": "dnHytGgHtzaS",
        "outputId": "4c4121b6-774d-4b41-afc5-db6d9d9c9de6"
      },
      "source": [
        "arr1"
      ],
      "execution_count": 13,
      "outputs": [
        {
          "output_type": "execute_result",
          "data": {
            "text/plain": [
              "array([[ 2,  4,  5],\n",
              "       [ 5,  4,  5],\n",
              "       [ 6,  7,  8],\n",
              "       [ 9,  8,  7],\n",
              "       [23,  3,  2]])"
            ]
          },
          "metadata": {
            "tags": []
          },
          "execution_count": 13
        }
      ]
    },
    {
      "cell_type": "code",
      "metadata": {
        "id": "swxIkKG-t1W8",
        "colab": {
          "base_uri": "https://localhost:8080/"
        },
        "outputId": "8d40029e-c403-4e55-a69e-c060851e72e8"
      },
      "source": [
        "arr1[0]"
      ],
      "execution_count": 14,
      "outputs": [
        {
          "output_type": "execute_result",
          "data": {
            "text/plain": [
              "array([2, 4, 5])"
            ]
          },
          "metadata": {
            "tags": []
          },
          "execution_count": 14
        }
      ]
    },
    {
      "cell_type": "code",
      "metadata": {
        "id": "lyCCzCENt3nk",
        "colab": {
          "base_uri": "https://localhost:8080/"
        },
        "outputId": "72365bb3-3972-4543-ff91-70a39d41b4b7"
      },
      "source": [
        "arr1[1]"
      ],
      "execution_count": 15,
      "outputs": [
        {
          "output_type": "execute_result",
          "data": {
            "text/plain": [
              "array([5, 4, 5])"
            ]
          },
          "metadata": {
            "tags": []
          },
          "execution_count": 15
        }
      ]
    },
    {
      "cell_type": "code",
      "metadata": {
        "id": "EdMncUDut5qK",
        "colab": {
          "base_uri": "https://localhost:8080/"
        },
        "outputId": "28ab7aeb-b535-429c-f043-959fe7166544"
      },
      "source": [
        "arr1[-2]"
      ],
      "execution_count": 16,
      "outputs": [
        {
          "output_type": "execute_result",
          "data": {
            "text/plain": [
              "array([9, 8, 7])"
            ]
          },
          "metadata": {
            "tags": []
          },
          "execution_count": 16
        }
      ]
    },
    {
      "cell_type": "code",
      "metadata": {
        "id": "UNrx7SZSt8wv",
        "colab": {
          "base_uri": "https://localhost:8080/"
        },
        "outputId": "4dc18a10-2808-4818-abe7-6bafa284112f"
      },
      "source": [
        "arr1[:]"
      ],
      "execution_count": 17,
      "outputs": [
        {
          "output_type": "execute_result",
          "data": {
            "text/plain": [
              "array([[ 2,  4,  5],\n",
              "       [ 5,  4,  5],\n",
              "       [ 6,  7,  8],\n",
              "       [ 9,  8,  7],\n",
              "       [23,  3,  2]])"
            ]
          },
          "metadata": {
            "tags": []
          },
          "execution_count": 17
        }
      ]
    },
    {
      "cell_type": "code",
      "metadata": {
        "id": "d9od0NnjuAmZ",
        "colab": {
          "base_uri": "https://localhost:8080/"
        },
        "outputId": "c3c56fd0-fa8e-4918-c815-3a1a8bbce486"
      },
      "source": [
        "arr1[2:5]  ## from index 2 to index 4"
      ],
      "execution_count": 18,
      "outputs": [
        {
          "output_type": "execute_result",
          "data": {
            "text/plain": [
              "array([[ 6,  7,  8],\n",
              "       [ 9,  8,  7],\n",
              "       [23,  3,  2]])"
            ]
          },
          "metadata": {
            "tags": []
          },
          "execution_count": 18
        }
      ]
    },
    {
      "cell_type": "code",
      "metadata": {
        "id": "8rJc66cyuJzW",
        "colab": {
          "base_uri": "https://localhost:8080/"
        },
        "outputId": "90734f4b-6632-40a5-90f5-af7450e92928"
      },
      "source": [
        "arr1[2:6]"
      ],
      "execution_count": 19,
      "outputs": [
        {
          "output_type": "execute_result",
          "data": {
            "text/plain": [
              "array([[ 6,  7,  8],\n",
              "       [ 9,  8,  7],\n",
              "       [23,  3,  2]])"
            ]
          },
          "metadata": {
            "tags": []
          },
          "execution_count": 19
        }
      ]
    },
    {
      "cell_type": "code",
      "metadata": {
        "id": "QaXr0gJ-uL8T",
        "colab": {
          "base_uri": "https://localhost:8080/"
        },
        "outputId": "5b747701-5516-4fc5-d1dd-1045236c3bb8"
      },
      "source": [
        "arr1[1:]"
      ],
      "execution_count": 20,
      "outputs": [
        {
          "output_type": "execute_result",
          "data": {
            "text/plain": [
              "array([[ 5,  4,  5],\n",
              "       [ 6,  7,  8],\n",
              "       [ 9,  8,  7],\n",
              "       [23,  3,  2]])"
            ]
          },
          "metadata": {
            "tags": []
          },
          "execution_count": 20
        }
      ]
    },
    {
      "cell_type": "code",
      "metadata": {
        "colab": {
          "base_uri": "https://localhost:8080/"
        },
        "id": "ZlX3ia9muTfI",
        "outputId": "21b048bd-c6bc-4109-e180-7ae5c43ec780"
      },
      "source": [
        "arr1[:4]   ## first to 3"
      ],
      "execution_count": 21,
      "outputs": [
        {
          "output_type": "execute_result",
          "data": {
            "text/plain": [
              "array([[2, 4, 5],\n",
              "       [5, 4, 5],\n",
              "       [6, 7, 8],\n",
              "       [9, 8, 7]])"
            ]
          },
          "metadata": {
            "tags": []
          },
          "execution_count": 21
        }
      ]
    },
    {
      "cell_type": "code",
      "metadata": {
        "colab": {
          "base_uri": "https://localhost:8080/"
        },
        "id": "tDR4grJFuahh",
        "outputId": "f03d86ed-bf14-4501-d975-534deb64835a"
      },
      "source": [
        "arr1[3]"
      ],
      "execution_count": 22,
      "outputs": [
        {
          "output_type": "execute_result",
          "data": {
            "text/plain": [
              "array([9, 8, 7])"
            ]
          },
          "metadata": {
            "tags": []
          },
          "execution_count": 22
        }
      ]
    },
    {
      "cell_type": "code",
      "metadata": {
        "colab": {
          "base_uri": "https://localhost:8080/"
        },
        "id": "x36yneUCuhqF",
        "outputId": "b3b4f286-5e24-4c8a-9023-1b3458fa242a"
      },
      "source": [
        "arr1[3,1]"
      ],
      "execution_count": 23,
      "outputs": [
        {
          "output_type": "execute_result",
          "data": {
            "text/plain": [
              "8"
            ]
          },
          "metadata": {
            "tags": []
          },
          "execution_count": 23
        }
      ]
    },
    {
      "cell_type": "code",
      "metadata": {
        "colab": {
          "base_uri": "https://localhost:8080/"
        },
        "id": "8b6R3_ZOulVH",
        "outputId": "c01d15d9-7f76-4b78-9748-7e37cf10b7ad"
      },
      "source": [
        "arr1"
      ],
      "execution_count": 24,
      "outputs": [
        {
          "output_type": "execute_result",
          "data": {
            "text/plain": [
              "array([[ 2,  4,  5],\n",
              "       [ 5,  4,  5],\n",
              "       [ 6,  7,  8],\n",
              "       [ 9,  8,  7],\n",
              "       [23,  3,  2]])"
            ]
          },
          "metadata": {
            "tags": []
          },
          "execution_count": 24
        }
      ]
    },
    {
      "cell_type": "code",
      "metadata": {
        "id": "Ce_rtQYaunEG",
        "colab": {
          "base_uri": "https://localhost:8080/"
        },
        "outputId": "a2433db6-4353-4b96-ce3a-13b9087c02a7"
      },
      "source": [
        "arr1[1:]"
      ],
      "execution_count": 25,
      "outputs": [
        {
          "output_type": "execute_result",
          "data": {
            "text/plain": [
              "array([[ 5,  4,  5],\n",
              "       [ 6,  7,  8],\n",
              "       [ 9,  8,  7],\n",
              "       [23,  3,  2]])"
            ]
          },
          "metadata": {
            "tags": []
          },
          "execution_count": 25
        }
      ]
    },
    {
      "cell_type": "code",
      "metadata": {
        "id": "isdZGJfutvy4"
      },
      "source": [
        ""
      ],
      "execution_count": null,
      "outputs": []
    },
    {
      "cell_type": "code",
      "metadata": {
        "colab": {
          "base_uri": "https://localhost:8080/"
        },
        "id": "wZVScN76wvzu",
        "outputId": "2230b092-c9cb-4c82-c256-bb036a3ac9d6"
      },
      "source": [
        "c = [[[2,4,5],[5,4,5],[6,7,8],[9,8,7],[23,3,2]],\r\n",
        "     [[20,40,50],[90,49,59],[69,79,89],[99,8,97],[23,39,29]]]   ## nested list\r\n",
        "arr3 = np.array(c)\r\n",
        "arr3"
      ],
      "execution_count": 46,
      "outputs": [
        {
          "output_type": "execute_result",
          "data": {
            "text/plain": [
              "array([[[ 2,  4,  5],\n",
              "        [ 5,  4,  5],\n",
              "        [ 6,  7,  8],\n",
              "        [ 9,  8,  7],\n",
              "        [23,  3,  2]],\n",
              "\n",
              "       [[20, 40, 50],\n",
              "        [90, 49, 59],\n",
              "        [69, 79, 89],\n",
              "        [99,  8, 97],\n",
              "        [23, 39, 29]]])"
            ]
          },
          "metadata": {
            "tags": []
          },
          "execution_count": 46
        }
      ]
    },
    {
      "cell_type": "code",
      "metadata": {
        "colab": {
          "base_uri": "https://localhost:8080/"
        },
        "id": "ScoGoNTCusis",
        "outputId": "98d4f429-1a2b-425e-9e86-8918cbdccf48"
      },
      "source": [
        "arr3"
      ],
      "execution_count": 47,
      "outputs": [
        {
          "output_type": "execute_result",
          "data": {
            "text/plain": [
              "array([[[ 2,  4,  5],\n",
              "        [ 5,  4,  5],\n",
              "        [ 6,  7,  8],\n",
              "        [ 9,  8,  7],\n",
              "        [23,  3,  2]],\n",
              "\n",
              "       [[20, 40, 50],\n",
              "        [90, 49, 59],\n",
              "        [69, 79, 89],\n",
              "        [99,  8, 97],\n",
              "        [23, 39, 29]]])"
            ]
          },
          "metadata": {
            "tags": []
          },
          "execution_count": 47
        }
      ]
    },
    {
      "cell_type": "code",
      "metadata": {
        "colab": {
          "base_uri": "https://localhost:8080/"
        },
        "id": "EeoycgdTvUHu",
        "outputId": "296f92a5-e0e6-49aa-ebcc-174391dea489"
      },
      "source": [
        "arr3[1]"
      ],
      "execution_count": 48,
      "outputs": [
        {
          "output_type": "execute_result",
          "data": {
            "text/plain": [
              "array([[20, 40, 50],\n",
              "       [90, 49, 59],\n",
              "       [69, 79, 89],\n",
              "       [99,  8, 97],\n",
              "       [23, 39, 29]])"
            ]
          },
          "metadata": {
            "tags": []
          },
          "execution_count": 48
        }
      ]
    },
    {
      "cell_type": "code",
      "metadata": {
        "colab": {
          "base_uri": "https://localhost:8080/"
        },
        "id": "uhnhxmq2vhAy",
        "outputId": "1f6ef5e0-c496-4b35-deab-94b70f4ffb5c"
      },
      "source": [
        "arr3[0]"
      ],
      "execution_count": 49,
      "outputs": [
        {
          "output_type": "execute_result",
          "data": {
            "text/plain": [
              "array([[ 2,  4,  5],\n",
              "       [ 5,  4,  5],\n",
              "       [ 6,  7,  8],\n",
              "       [ 9,  8,  7],\n",
              "       [23,  3,  2]])"
            ]
          },
          "metadata": {
            "tags": []
          },
          "execution_count": 49
        }
      ]
    },
    {
      "cell_type": "code",
      "metadata": {
        "colab": {
          "base_uri": "https://localhost:8080/"
        },
        "id": "63_dIRIJvmTA",
        "outputId": "dbd45f74-ba06-428b-ab7d-0af80098804f"
      },
      "source": [
        "arr3[0][3]"
      ],
      "execution_count": 50,
      "outputs": [
        {
          "output_type": "execute_result",
          "data": {
            "text/plain": [
              "array([9, 8, 7])"
            ]
          },
          "metadata": {
            "tags": []
          },
          "execution_count": 50
        }
      ]
    },
    {
      "cell_type": "code",
      "metadata": {
        "colab": {
          "base_uri": "https://localhost:8080/"
        },
        "id": "MsLSES7xvr8R",
        "outputId": "2b1afb2f-12e0-49bf-f9fa-2b4ab43e5b38"
      },
      "source": [
        "arr3[0][3][2]"
      ],
      "execution_count": 51,
      "outputs": [
        {
          "output_type": "execute_result",
          "data": {
            "text/plain": [
              "7"
            ]
          },
          "metadata": {
            "tags": []
          },
          "execution_count": 51
        }
      ]
    },
    {
      "cell_type": "code",
      "metadata": {
        "colab": {
          "base_uri": "https://localhost:8080/"
        },
        "id": "gthkMm6vvxKN",
        "outputId": "1adc4008-55a2-4189-b2fe-1ab5a7043924"
      },
      "source": [
        "arr3[0][1:4]"
      ],
      "execution_count": 52,
      "outputs": [
        {
          "output_type": "execute_result",
          "data": {
            "text/plain": [
              "array([[5, 4, 5],\n",
              "       [6, 7, 8],\n",
              "       [9, 8, 7]])"
            ]
          },
          "metadata": {
            "tags": []
          },
          "execution_count": 52
        }
      ]
    },
    {
      "cell_type": "code",
      "metadata": {
        "colab": {
          "base_uri": "https://localhost:8080/"
        },
        "id": "iaPiz3IGv4Gk",
        "outputId": "67ccc479-053b-4c38-bea8-304fc1e90a65"
      },
      "source": [
        "arr3[0][1:4][2]"
      ],
      "execution_count": 53,
      "outputs": [
        {
          "output_type": "execute_result",
          "data": {
            "text/plain": [
              "array([9, 8, 7])"
            ]
          },
          "metadata": {
            "tags": []
          },
          "execution_count": 53
        }
      ]
    },
    {
      "cell_type": "code",
      "metadata": {
        "colab": {
          "base_uri": "https://localhost:8080/"
        },
        "id": "CjvxvIoJwHR1",
        "outputId": "71089f58-0edb-440f-9264-d231696e9cbb"
      },
      "source": [
        "arr3[0][1:4,2]"
      ],
      "execution_count": 54,
      "outputs": [
        {
          "output_type": "execute_result",
          "data": {
            "text/plain": [
              "array([5, 8, 7])"
            ]
          },
          "metadata": {
            "tags": []
          },
          "execution_count": 54
        }
      ]
    },
    {
      "cell_type": "code",
      "metadata": {
        "colab": {
          "base_uri": "https://localhost:8080/"
        },
        "id": "seLKKdH-wVe1",
        "outputId": "a78f2ffa-46a7-4797-929c-94ccd16966d8"
      },
      "source": [
        "arr1"
      ],
      "execution_count": 55,
      "outputs": [
        {
          "output_type": "execute_result",
          "data": {
            "text/plain": [
              "array([[ 2,  4,  5],\n",
              "       [ 5,  4,  5],\n",
              "       [ 6,  7,  8],\n",
              "       [ 9,  8,  7],\n",
              "       [23,  3,  2]])"
            ]
          },
          "metadata": {
            "tags": []
          },
          "execution_count": 55
        }
      ]
    },
    {
      "cell_type": "code",
      "metadata": {
        "id": "dfgBh2vQw63J",
        "colab": {
          "base_uri": "https://localhost:8080/"
        },
        "outputId": "7df494c3-bdac-4c76-e880-10eb5e6d6350"
      },
      "source": [
        "arr1.mean()"
      ],
      "execution_count": 27,
      "outputs": [
        {
          "output_type": "execute_result",
          "data": {
            "text/plain": [
              "6.533333333333333"
            ]
          },
          "metadata": {
            "tags": []
          },
          "execution_count": 27
        }
      ]
    },
    {
      "cell_type": "code",
      "metadata": {
        "id": "a_AcaFbhw8iO",
        "colab": {
          "base_uri": "https://localhost:8080/"
        },
        "outputId": "b9e1d267-4126-441a-a2ee-298991d630d3"
      },
      "source": [
        "arr1.sum()"
      ],
      "execution_count": 28,
      "outputs": [
        {
          "output_type": "execute_result",
          "data": {
            "text/plain": [
              "98"
            ]
          },
          "metadata": {
            "tags": []
          },
          "execution_count": 28
        }
      ]
    },
    {
      "cell_type": "code",
      "metadata": {
        "id": "-M7pM4CZw-hd",
        "colab": {
          "base_uri": "https://localhost:8080/"
        },
        "outputId": "e8860263-8a1e-4f82-db0a-f3f748091e89"
      },
      "source": [
        "arr1.sum(axis=0)  ##coluwn wise"
      ],
      "execution_count": 29,
      "outputs": [
        {
          "output_type": "execute_result",
          "data": {
            "text/plain": [
              "array([45, 26, 27])"
            ]
          },
          "metadata": {
            "tags": []
          },
          "execution_count": 29
        }
      ]
    },
    {
      "cell_type": "code",
      "metadata": {
        "colab": {
          "base_uri": "https://localhost:8080/"
        },
        "id": "ofM2nfRSxEbg",
        "outputId": "847193a4-f6ab-42bd-9757-a6be95ec14f7"
      },
      "source": [
        "arr1.sum(axis=1)  ##row wise"
      ],
      "execution_count": 30,
      "outputs": [
        {
          "output_type": "execute_result",
          "data": {
            "text/plain": [
              "array([11, 14, 21, 24, 28])"
            ]
          },
          "metadata": {
            "tags": []
          },
          "execution_count": 30
        }
      ]
    },
    {
      "cell_type": "code",
      "metadata": {
        "colab": {
          "base_uri": "https://localhost:8080/"
        },
        "id": "hznn5CIjxKWX",
        "outputId": "a2a4744a-5728-4df9-9d4f-d4ec6cfb73b7"
      },
      "source": [
        "arr1.max()"
      ],
      "execution_count": 31,
      "outputs": [
        {
          "output_type": "execute_result",
          "data": {
            "text/plain": [
              "23"
            ]
          },
          "metadata": {
            "tags": []
          },
          "execution_count": 31
        }
      ]
    },
    {
      "cell_type": "code",
      "metadata": {
        "colab": {
          "base_uri": "https://localhost:8080/"
        },
        "id": "Vocva0pOxOjo",
        "outputId": "2b9c04ee-031c-4b6a-eead-e6ce10367444"
      },
      "source": [
        "arr1.min()"
      ],
      "execution_count": 32,
      "outputs": [
        {
          "output_type": "execute_result",
          "data": {
            "text/plain": [
              "2"
            ]
          },
          "metadata": {
            "tags": []
          },
          "execution_count": 32
        }
      ]
    },
    {
      "cell_type": "code",
      "metadata": {
        "colab": {
          "base_uri": "https://localhost:8080/"
        },
        "id": "scKnh9Ikxcmw",
        "outputId": "9be1fd97-39b7-49a7-83e8-cfb1473cacfb"
      },
      "source": [
        "arr1"
      ],
      "execution_count": 33,
      "outputs": [
        {
          "output_type": "execute_result",
          "data": {
            "text/plain": [
              "array([[ 2,  4,  5],\n",
              "       [ 5,  4,  5],\n",
              "       [ 6,  7,  8],\n",
              "       [ 9,  8,  7],\n",
              "       [23,  3,  2]])"
            ]
          },
          "metadata": {
            "tags": []
          },
          "execution_count": 33
        }
      ]
    },
    {
      "cell_type": "code",
      "metadata": {
        "colab": {
          "base_uri": "https://localhost:8080/"
        },
        "id": "pWUWshOHxQrv",
        "outputId": "50885b55-1d65-472f-bf67-8994294cc7ee"
      },
      "source": [
        "arr1.argmax() #position of maximum number"
      ],
      "execution_count": 56,
      "outputs": [
        {
          "output_type": "execute_result",
          "data": {
            "text/plain": [
              "12"
            ]
          },
          "metadata": {
            "tags": []
          },
          "execution_count": 56
        }
      ]
    },
    {
      "cell_type": "code",
      "metadata": {
        "colab": {
          "base_uri": "https://localhost:8080/"
        },
        "id": "9y85tNDYxVND",
        "outputId": "d38dc685-9168-4106-8f0f-40a39f803109"
      },
      "source": [
        "arr1.argmin()"
      ],
      "execution_count": 35,
      "outputs": [
        {
          "output_type": "execute_result",
          "data": {
            "text/plain": [
              "0"
            ]
          },
          "metadata": {
            "tags": []
          },
          "execution_count": 35
        }
      ]
    },
    {
      "cell_type": "code",
      "metadata": {
        "colab": {
          "base_uri": "https://localhost:8080/"
        },
        "id": "98OIx78vyOPK",
        "outputId": "a172466d-b516-4316-d0f5-034a277ead85"
      },
      "source": [
        "arr1.min(axis=1)"
      ],
      "execution_count": 37,
      "outputs": [
        {
          "output_type": "execute_result",
          "data": {
            "text/plain": [
              "array([2, 4, 6, 7, 2])"
            ]
          },
          "metadata": {
            "tags": []
          },
          "execution_count": 37
        }
      ]
    },
    {
      "cell_type": "code",
      "metadata": {
        "colab": {
          "base_uri": "https://localhost:8080/"
        },
        "id": "3RwBm4yGxW2K",
        "outputId": "7161b48a-3988-4725-8346-1235606b834f"
      },
      "source": [
        "## Linspace - Linear Spacing\r\n",
        "np.linspace(20,40,5)"
      ],
      "execution_count": 57,
      "outputs": [
        {
          "output_type": "execute_result",
          "data": {
            "text/plain": [
              "array([20., 25., 30., 35., 40.])"
            ]
          },
          "metadata": {
            "tags": []
          },
          "execution_count": 57
        }
      ]
    },
    {
      "cell_type": "code",
      "metadata": {
        "colab": {
          "base_uri": "https://localhost:8080/"
        },
        "id": "9_qywnW-19Nf",
        "outputId": "dfb4fd44-210d-4cfc-87a3-ef04b131124b"
      },
      "source": [
        "np.linspace(20,40,10)"
      ],
      "execution_count": 58,
      "outputs": [
        {
          "output_type": "execute_result",
          "data": {
            "text/plain": [
              "array([20.        , 22.22222222, 24.44444444, 26.66666667, 28.88888889,\n",
              "       31.11111111, 33.33333333, 35.55555556, 37.77777778, 40.        ])"
            ]
          },
          "metadata": {
            "tags": []
          },
          "execution_count": 58
        }
      ]
    },
    {
      "cell_type": "code",
      "metadata": {
        "colab": {
          "base_uri": "https://localhost:8080/"
        },
        "id": "ivy3-81O2Do2",
        "outputId": "5f4f73c0-9bf0-4558-b69e-79be9df568b6"
      },
      "source": [
        "np.arange(20,40,3)"
      ],
      "execution_count": 59,
      "outputs": [
        {
          "output_type": "execute_result",
          "data": {
            "text/plain": [
              "array([20, 23, 26, 29, 32, 35, 38])"
            ]
          },
          "metadata": {
            "tags": []
          },
          "execution_count": 59
        }
      ]
    },
    {
      "cell_type": "code",
      "metadata": {
        "colab": {
          "base_uri": "https://localhost:8080/"
        },
        "id": "_PipO1c52QG6",
        "outputId": "6aed9dd7-e5cc-4666-a5d0-ddda3125f839"
      },
      "source": [
        "np.arange(20,41,3)"
      ],
      "execution_count": 60,
      "outputs": [
        {
          "output_type": "execute_result",
          "data": {
            "text/plain": [
              "array([20, 23, 26, 29, 32, 35, 38])"
            ]
          },
          "metadata": {
            "tags": []
          },
          "execution_count": 60
        }
      ]
    },
    {
      "cell_type": "code",
      "metadata": {
        "id": "3rO1O3hA2Xif",
        "colab": {
          "base_uri": "https://localhost:8080/"
        },
        "outputId": "eebcf97c-b4af-4be5-a239-b839bd6869ad"
      },
      "source": [
        "np.arange(20,42,3)"
      ],
      "execution_count": 61,
      "outputs": [
        {
          "output_type": "execute_result",
          "data": {
            "text/plain": [
              "array([20, 23, 26, 29, 32, 35, 38, 41])"
            ]
          },
          "metadata": {
            "tags": []
          },
          "execution_count": 61
        }
      ]
    },
    {
      "cell_type": "code",
      "metadata": {
        "id": "Hmm81Lw1ySlq"
      },
      "source": [
        ""
      ],
      "execution_count": null,
      "outputs": []
    },
    {
      "cell_type": "code",
      "metadata": {
        "colab": {
          "base_uri": "https://localhost:8080/"
        },
        "id": "AoSGoJWD2Z9T",
        "outputId": "045e4c2a-5ef6-4bf5-e773-6d6236cb5957"
      },
      "source": [
        "### Random Function\r\n",
        "np.random.randint(50)"
      ],
      "execution_count": 62,
      "outputs": [
        {
          "output_type": "execute_result",
          "data": {
            "text/plain": [
              "12"
            ]
          },
          "metadata": {
            "tags": []
          },
          "execution_count": 62
        }
      ]
    },
    {
      "cell_type": "code",
      "metadata": {
        "colab": {
          "base_uri": "https://localhost:8080/"
        },
        "id": "z_grg3153Nne",
        "outputId": "c67a0dbe-8be0-4881-9084-9faa2d77b2e9"
      },
      "source": [
        "np.random.seed(11225)\r\n",
        "np.random.randint(50)"
      ],
      "execution_count": 63,
      "outputs": [
        {
          "output_type": "execute_result",
          "data": {
            "text/plain": [
              "6"
            ]
          },
          "metadata": {
            "tags": []
          },
          "execution_count": 63
        }
      ]
    },
    {
      "cell_type": "code",
      "metadata": {
        "colab": {
          "base_uri": "https://localhost:8080/"
        },
        "id": "mczCKp0A3lg1",
        "outputId": "bdd19b3a-7c0a-42f6-84b9-6bfb179eb90d"
      },
      "source": [
        "np.random.randint(50,500)"
      ],
      "execution_count": 64,
      "outputs": [
        {
          "output_type": "execute_result",
          "data": {
            "text/plain": [
              "212"
            ]
          },
          "metadata": {
            "tags": []
          },
          "execution_count": 64
        }
      ]
    },
    {
      "cell_type": "code",
      "metadata": {
        "colab": {
          "base_uri": "https://localhost:8080/"
        },
        "id": "Ixg5nf6i3_v2",
        "outputId": "6c66b422-7d71-429d-b94b-4c60d1367da3"
      },
      "source": [
        "np.random.randint(50,500,10)"
      ],
      "execution_count": 65,
      "outputs": [
        {
          "output_type": "execute_result",
          "data": {
            "text/plain": [
              "array([355, 147, 193, 380, 379, 400, 263, 128, 211, 124])"
            ]
          },
          "metadata": {
            "tags": []
          },
          "execution_count": 65
        }
      ]
    },
    {
      "cell_type": "code",
      "metadata": {
        "colab": {
          "base_uri": "https://localhost:8080/"
        },
        "id": "bj4-yLXn4EEF",
        "outputId": "9d37c473-6548-4bbc-f9e9-88bef7c8727e"
      },
      "source": [
        "np.random.randint(50,500,(5,5))"
      ],
      "execution_count": 66,
      "outputs": [
        {
          "output_type": "execute_result",
          "data": {
            "text/plain": [
              "array([[475, 387, 164,  74, 234],\n",
              "       [475, 382, 264, 211, 205],\n",
              "       [467, 170, 232, 195, 334],\n",
              "       [464, 400, 393, 497, 315],\n",
              "       [232, 287, 487, 231, 471]])"
            ]
          },
          "metadata": {
            "tags": []
          },
          "execution_count": 66
        }
      ]
    },
    {
      "cell_type": "code",
      "metadata": {
        "id": "OSHHYKXg4K7P",
        "colab": {
          "base_uri": "https://localhost:8080/"
        },
        "outputId": "0601f56a-6fc7-4064-e63f-a95ae55cd44e"
      },
      "source": [
        "## Standard Matrix\r\n",
        "np.zeros((4,4))"
      ],
      "execution_count": 67,
      "outputs": [
        {
          "output_type": "execute_result",
          "data": {
            "text/plain": [
              "array([[0., 0., 0., 0.],\n",
              "       [0., 0., 0., 0.],\n",
              "       [0., 0., 0., 0.],\n",
              "       [0., 0., 0., 0.]])"
            ]
          },
          "metadata": {
            "tags": []
          },
          "execution_count": 67
        }
      ]
    },
    {
      "cell_type": "code",
      "metadata": {
        "id": "NcwvMR6T5FxP",
        "colab": {
          "base_uri": "https://localhost:8080/"
        },
        "outputId": "bd033fc0-b2cb-4069-899a-d0c665f8baa5"
      },
      "source": [
        "np.ones((5,4))"
      ],
      "execution_count": 68,
      "outputs": [
        {
          "output_type": "execute_result",
          "data": {
            "text/plain": [
              "array([[1., 1., 1., 1.],\n",
              "       [1., 1., 1., 1.],\n",
              "       [1., 1., 1., 1.],\n",
              "       [1., 1., 1., 1.],\n",
              "       [1., 1., 1., 1.]])"
            ]
          },
          "metadata": {
            "tags": []
          },
          "execution_count": 68
        }
      ]
    },
    {
      "cell_type": "code",
      "metadata": {
        "colab": {
          "base_uri": "https://localhost:8080/"
        },
        "id": "B9OebLly5MLU",
        "outputId": "cb498db8-960b-4bdd-b92b-60fe78dffdf7"
      },
      "source": [
        "np.identity(5)"
      ],
      "execution_count": 69,
      "outputs": [
        {
          "output_type": "execute_result",
          "data": {
            "text/plain": [
              "array([[1., 0., 0., 0., 0.],\n",
              "       [0., 1., 0., 0., 0.],\n",
              "       [0., 0., 1., 0., 0.],\n",
              "       [0., 0., 0., 1., 0.],\n",
              "       [0., 0., 0., 0., 1.]])"
            ]
          },
          "metadata": {
            "tags": []
          },
          "execution_count": 69
        }
      ]
    },
    {
      "cell_type": "code",
      "metadata": {
        "colab": {
          "base_uri": "https://localhost:8080/"
        },
        "id": "-eqC6cqJ5YEW",
        "outputId": "8057a740-9e87-41d9-eb91-1b5232568038"
      },
      "source": [
        "np.pi"
      ],
      "execution_count": 70,
      "outputs": [
        {
          "output_type": "execute_result",
          "data": {
            "text/plain": [
              "3.141592653589793"
            ]
          },
          "metadata": {
            "tags": []
          },
          "execution_count": 70
        }
      ]
    },
    {
      "cell_type": "code",
      "metadata": {
        "colab": {
          "base_uri": "https://localhost:8080/"
        },
        "id": "udInu4o-5eEj",
        "outputId": "5e895b5c-c2dd-46cf-f4a1-8191047b4bcf"
      },
      "source": [
        "np.exp(50)"
      ],
      "execution_count": 71,
      "outputs": [
        {
          "output_type": "execute_result",
          "data": {
            "text/plain": [
              "5.184705528587072e+21"
            ]
          },
          "metadata": {
            "tags": []
          },
          "execution_count": 71
        }
      ]
    },
    {
      "cell_type": "code",
      "metadata": {
        "colab": {
          "base_uri": "https://localhost:8080/"
        },
        "id": "Wb8XD_z-5gBa",
        "outputId": "a6db3334-239f-4e87-c7a9-9a957fae1f82"
      },
      "source": [
        "a = np.identity(5)\r\n",
        "a = a.astype(\"int\")\r\n",
        "a"
      ],
      "execution_count": 72,
      "outputs": [
        {
          "output_type": "execute_result",
          "data": {
            "text/plain": [
              "array([[1, 0, 0, 0, 0],\n",
              "       [0, 1, 0, 0, 0],\n",
              "       [0, 0, 1, 0, 0],\n",
              "       [0, 0, 0, 1, 0],\n",
              "       [0, 0, 0, 0, 1]])"
            ]
          },
          "metadata": {
            "tags": []
          },
          "execution_count": 72
        }
      ]
    },
    {
      "cell_type": "code",
      "metadata": {
        "id": "u8a96z-S5tMq",
        "colab": {
          "base_uri": "https://localhost:8080/"
        },
        "outputId": "aff9f7b8-5ded-4759-f1db-2f2c00e81992"
      },
      "source": [
        "b = np.linspace(10,100,50)\r\n",
        "b"
      ],
      "execution_count": 73,
      "outputs": [
        {
          "output_type": "execute_result",
          "data": {
            "text/plain": [
              "array([ 10.        ,  11.83673469,  13.67346939,  15.51020408,\n",
              "        17.34693878,  19.18367347,  21.02040816,  22.85714286,\n",
              "        24.69387755,  26.53061224,  28.36734694,  30.20408163,\n",
              "        32.04081633,  33.87755102,  35.71428571,  37.55102041,\n",
              "        39.3877551 ,  41.2244898 ,  43.06122449,  44.89795918,\n",
              "        46.73469388,  48.57142857,  50.40816327,  52.24489796,\n",
              "        54.08163265,  55.91836735,  57.75510204,  59.59183673,\n",
              "        61.42857143,  63.26530612,  65.10204082,  66.93877551,\n",
              "        68.7755102 ,  70.6122449 ,  72.44897959,  74.28571429,\n",
              "        76.12244898,  77.95918367,  79.79591837,  81.63265306,\n",
              "        83.46938776,  85.30612245,  87.14285714,  88.97959184,\n",
              "        90.81632653,  92.65306122,  94.48979592,  96.32653061,\n",
              "        98.16326531, 100.        ])"
            ]
          },
          "metadata": {
            "tags": []
          },
          "execution_count": 73
        }
      ]
    },
    {
      "cell_type": "code",
      "metadata": {
        "id": "Eqm-3CDH6N32",
        "colab": {
          "base_uri": "https://localhost:8080/"
        },
        "outputId": "5949582f-c9c0-4d01-da74-47def79f2436"
      },
      "source": [
        "np.round(b)"
      ],
      "execution_count": 74,
      "outputs": [
        {
          "output_type": "execute_result",
          "data": {
            "text/plain": [
              "array([ 10.,  12.,  14.,  16.,  17.,  19.,  21.,  23.,  25.,  27.,  28.,\n",
              "        30.,  32.,  34.,  36.,  38.,  39.,  41.,  43.,  45.,  47.,  49.,\n",
              "        50.,  52.,  54.,  56.,  58.,  60.,  61.,  63.,  65.,  67.,  69.,\n",
              "        71.,  72.,  74.,  76.,  78.,  80.,  82.,  83.,  85.,  87.,  89.,\n",
              "        91.,  93.,  94.,  96.,  98., 100.])"
            ]
          },
          "metadata": {
            "tags": []
          },
          "execution_count": 74
        }
      ]
    },
    {
      "cell_type": "code",
      "metadata": {
        "id": "jSyuVitf6WXc",
        "colab": {
          "base_uri": "https://localhost:8080/"
        },
        "outputId": "2888cf20-0b8b-40ae-ad0c-222bb98cce08"
      },
      "source": [
        "np.round(b,3)"
      ],
      "execution_count": 75,
      "outputs": [
        {
          "output_type": "execute_result",
          "data": {
            "text/plain": [
              "array([ 10.   ,  11.837,  13.673,  15.51 ,  17.347,  19.184,  21.02 ,\n",
              "        22.857,  24.694,  26.531,  28.367,  30.204,  32.041,  33.878,\n",
              "        35.714,  37.551,  39.388,  41.224,  43.061,  44.898,  46.735,\n",
              "        48.571,  50.408,  52.245,  54.082,  55.918,  57.755,  59.592,\n",
              "        61.429,  63.265,  65.102,  66.939,  68.776,  70.612,  72.449,\n",
              "        74.286,  76.122,  77.959,  79.796,  81.633,  83.469,  85.306,\n",
              "        87.143,  88.98 ,  90.816,  92.653,  94.49 ,  96.327,  98.163,\n",
              "       100.   ])"
            ]
          },
          "metadata": {
            "tags": []
          },
          "execution_count": 75
        }
      ]
    },
    {
      "cell_type": "code",
      "metadata": {
        "id": "T2tdq8EL6afA",
        "colab": {
          "base_uri": "https://localhost:8080/"
        },
        "outputId": "c90d936f-74c0-4d66-8bee-e59bc06fef00"
      },
      "source": [
        "np.sin(75)"
      ],
      "execution_count": 76,
      "outputs": [
        {
          "output_type": "execute_result",
          "data": {
            "text/plain": [
              "-0.38778163540943045"
            ]
          },
          "metadata": {
            "tags": []
          },
          "execution_count": 76
        }
      ]
    },
    {
      "cell_type": "code",
      "metadata": {
        "id": "_5-P1c9x6hYv",
        "colab": {
          "base_uri": "https://localhost:8080/"
        },
        "outputId": "76bf4732-7722-4e1b-b1a1-217585e90a1d"
      },
      "source": [
        "np.cos(56)"
      ],
      "execution_count": 77,
      "outputs": [
        {
          "output_type": "execute_result",
          "data": {
            "text/plain": [
              "0.8532201077225842"
            ]
          },
          "metadata": {
            "tags": []
          },
          "execution_count": 77
        }
      ]
    },
    {
      "cell_type": "code",
      "metadata": {
        "id": "eS-X5BoY6j_O",
        "colab": {
          "base_uri": "https://localhost:8080/"
        },
        "outputId": "8faf1ac9-b217-420e-8083-9de29342ce89"
      },
      "source": [
        "np.tan(88)"
      ],
      "execution_count": 78,
      "outputs": [
        {
          "output_type": "execute_result",
          "data": {
            "text/plain": [
              "0.03542050133937693"
            ]
          },
          "metadata": {
            "tags": []
          },
          "execution_count": 78
        }
      ]
    },
    {
      "cell_type": "code",
      "metadata": {
        "colab": {
          "base_uri": "https://localhost:8080/"
        },
        "id": "wEqogMF9-Jc-",
        "outputId": "f9149ff0-5eb4-4b65-a5dd-30c4dee0d614"
      },
      "source": [
        "arr1.shape"
      ],
      "execution_count": 79,
      "outputs": [
        {
          "output_type": "execute_result",
          "data": {
            "text/plain": [
              "(5, 3)"
            ]
          },
          "metadata": {
            "tags": []
          },
          "execution_count": 79
        }
      ]
    },
    {
      "cell_type": "code",
      "metadata": {
        "id": "J2IuB_DZ_WvW"
      },
      "source": [
        "arr1 = arr1.reshape(15,1)"
      ],
      "execution_count": 80,
      "outputs": []
    },
    {
      "cell_type": "code",
      "metadata": {
        "id": "ZwHgomGA_kXg",
        "colab": {
          "base_uri": "https://localhost:8080/"
        },
        "outputId": "1b9b03b5-0a2a-4c2f-c023-4e99f171fbf0"
      },
      "source": [
        "arr1"
      ],
      "execution_count": 81,
      "outputs": [
        {
          "output_type": "execute_result",
          "data": {
            "text/plain": [
              "array([[ 2],\n",
              "       [ 4],\n",
              "       [ 5],\n",
              "       [ 5],\n",
              "       [ 4],\n",
              "       [ 5],\n",
              "       [ 6],\n",
              "       [ 7],\n",
              "       [ 8],\n",
              "       [ 9],\n",
              "       [ 8],\n",
              "       [ 7],\n",
              "       [23],\n",
              "       [ 3],\n",
              "       [ 2]])"
            ]
          },
          "metadata": {
            "tags": []
          },
          "execution_count": 81
        }
      ]
    }
  ]
}